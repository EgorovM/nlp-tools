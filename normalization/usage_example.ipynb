{
 "cells": [
  {
   "cell_type": "markdown",
   "id": "f036ea77-de1c-49d5-83fb-b799cdf6eaa3",
   "metadata": {},
   "source": [
    "# Скрипт для лемматизации текстов\n",
    "<b>Автор:</b> Егоров Мичил (тг: @loalkota, email: egorov_michil@mail.ru). \n",
    "\n",
    "Пишите идею для улучшения скриптов или сразу создавайте PR :)\n",
    "\n",
    "Лемматизация - процесс приведения словоформы к лемме — её нормальной (словарной) форме.\n",
    "\n",
    "- Жизней -> жизни\n",
    "- Игры -> игра\n",
    "\n",
    "\n",
    "Проверим работу скрипта на 50 статьях вики"
   ]
  },
  {
   "cell_type": "code",
   "execution_count": 1,
   "id": "e1113d7e-d555-4333-9d58-7ce2cbd5d887",
   "metadata": {},
   "outputs": [],
   "source": [
    "import pandas as pd\n",
    "import seaborn as sns\n",
    "import matplotlib.pyplot as plt"
   ]
  },
  {
   "cell_type": "code",
   "execution_count": 2,
   "id": "3b3d0634-1559-4bf8-ab2a-99da741aef22",
   "metadata": {},
   "outputs": [],
   "source": [
    "df = pd.read_csv('../data/wiki.csv', sep='\\t')"
   ]
  },
  {
   "cell_type": "code",
   "execution_count": 3,
   "id": "7e51bbae-1a33-475e-857e-5c6fb1b3d148",
   "metadata": {},
   "outputs": [
    {
     "data": {
      "text/plain": [
       "(50, 3)"
      ]
     },
     "execution_count": 3,
     "metadata": {},
     "output_type": "execute_result"
    }
   ],
   "source": [
    "df.shape"
   ]
  },
  {
   "cell_type": "code",
   "execution_count": 4,
   "id": "74de7122-1191-4597-8cfe-ee84958f8b0a",
   "metadata": {},
   "outputs": [
    {
     "data": {
      "text/plain": [
       "'Игры-викторины\\nBrainstorm (настольная игра)Brainstorm () — разновидность игр-викторин.Правила игры.В комплект игры входит:На каждой карточке написана тема и 10 «правильных ответов»: понятий, так или иначе связанных с темой.Темы могут содержать:Ответы «правильные» в кавычках, потому что по-настоящему правильных ответов к каждой теме может быть больше 10.\\nНо в игре засчитываются только ответы, указанные на карточке.Играет две команды, состав команд произволен.Право первого хода определяется бросанием кубика.\\nВ дальнейшем ходят по очереди.Минималистическая версия.Ведущий (его роль может играть представитель другой команды) зачитывает ходящей команде тему карточки и переворачивает песочные часы.\\nВ течение минуты отвечающая команда устраивает «мозговой штурм», выдавая всевозможные ответы, по их мнению, связанные с темой.\\nПо окончании минуты за каждый упомянутый «правильный» ответ команде даётся одно очко.Детали реализации.Текст темы карточки напечатан чёрным по белому, а «правильные» ответы — синим по красному муару.\\nПрочесть их можно, только наложив на карточку красный светофильтр.\\nВ комплекте игры поставляется кармашек для карточек со светофильтром.Таким образом (в случае игры без ведущего), игрок команды А, зачитывающий тему карточки команде Б, не видит «правильных» ответов и сможет участвовать в мозговом штурме в случае, если команда Б откажется от вопроса, и карточка перейдёт к команде А.\\nИвановская областьИва́новская о́бласть — субъект Российской Федерации, входит в состав Центрального федерального округа.На северо-западе граничит с Ярославской областью, на севере с Костромской областью, на востоке с Нижегородской областью, на юге с Владимирской областью.\\nПлощадь — км², население — чел.\\n().\\nОбластной центр — город Иваново (расстояние до Москвы — 275 км).\\nКод региона — 37.Награждена орденом Ленина (1967).История.Территория области в каменный, бронзовый и начало железного века.Древнейшие жители области селились по берегам крупных рек и озёр.\\nНаибольшим количеством ст'"
      ]
     },
     "execution_count": 4,
     "metadata": {},
     "output_type": "execute_result"
    }
   ],
   "source": [
    "df.article[0][:2000]"
   ]
  },
  {
   "cell_type": "code",
   "execution_count": 5,
   "id": "19d786c1-18f0-4c74-8279-4200495d639b",
   "metadata": {},
   "outputs": [],
   "source": [
    "def is_na(x):\n",
    "    if isinstance(x, bool):\n",
    "        return x\n",
    "    \n",
    "    return x.any()"
   ]
  },
  {
   "cell_type": "code",
   "execution_count": 6,
   "id": "e657c60a-d03e-41f2-b420-7d942879a9f7",
   "metadata": {},
   "outputs": [
    {
     "data": {
      "image/png": "[encoded data removed]",
      "text/plain": [
       "<Figure size 1152x360 with 2 Axes>"
      ]
     },
     "metadata": {
      "needs_background": "light"
     },
     "output_type": "display_data"
    }
   ],
   "source": [
    "_, axes = plt.subplots(1, 2, figsize=(16, 5))\n",
    "\n",
    "sns.histplot(df.article.str.len(), ax=axes.flat[0])\n",
    "sns.histplot(df.article.str.split().apply(lambda x: set() if is_na(pd.isna(x)) else set(x)).str.len(), ax=axes.flat[1])\n",
    "\n",
    "axes.flat[0].set_title('Распределение длины записей')\n",
    "axes.flat[1].set_title('Распределение количества различных слов в записях')\n",
    "\n",
    "plt.show()"
   ]
  },
  {
   "cell_type": "markdown",
   "id": "89925bec-1604-4769-b2df-a831214efbe3",
   "metadata": {},
   "source": [
    "## Лемматизация с кэшированием\n",
    "\n",
    "Скрипт сначала предобрабатывает текст:\n",
    "- Удаляет HTML теги\n",
    "- Убирает ссылки\n",
    "- Оставляет в текстах только буквы латиницы и кириллицы, числа и точки\n",
    "- По желанию фильтруются стоп-слова \n",
    "\n",
    "Далее находятся уникальные слова и только они нормализуются, что существенно ускоряет процесс лемматизации. Поверх этого, лемматизированные слова сохраняются, что позволяет запоминать леммы и заново их не просчитывать."
   ]
  },
  {
   "cell_type": "code",
   "execution_count": 7,
   "id": "bc1d93d5-a5e5-4439-8036-ad25eb0f5b9e",
   "metadata": {},
   "outputs": [],
   "source": [
    "from cached_normalizer import CachedNormalizer"
   ]
  },
  {
   "cell_type": "code",
   "execution_count": 8,
   "id": "9afab970-a906-471d-a8df-be4694a4beeb",
   "metadata": {},
   "outputs": [],
   "source": [
    "cached_normalizer = CachedNormalizer(\n",
    "    tokenizer=None,  # по умолчанию токенайзер от nltk\n",
    "    word2norm=None,  # словарь вида {\"word1\": \"norm_form1\", \"word2\": \"norm_form2\"...}\n",
    "    remove_stopwords=False,  # нужно ли удалять стоп-слова\n",
    "    stopwords=None,  # если нужно удалить стоп-слова, то какие (по умолчанию стоп-слова от nltk)\n",
    ")"
   ]
  },
  {
   "cell_type": "markdown",
   "id": "5b1a7156-c8cb-41b5-9f38-5e3c03d861c3",
   "metadata": {},
   "source": [
    "Нужно вызвать метод normalize у объектов класса"
   ]
  },
  {
   "cell_type": "code",
   "execution_count": 9,
   "id": "c4ec3e01-71df-4efe-b002-fe6fe020a9ab",
   "metadata": {},
   "outputs": [
    {
     "data": {
      "application/vnd.jupyter.widget-view+json": {
       "model_id": "",
       "version_major": 2,
       "version_minor": 0
      },
      "text/plain": [
       "Чистка текста:   0%|          | 0/50 [00:00<?, ?it/s]"
      ]
     },
     "metadata": {},
     "output_type": "display_data"
    },
    {
     "data": {
      "application/vnd.jupyter.widget-view+json": {
       "model_id": "",
       "version_major": 2,
       "version_minor": 0
      },
      "text/plain": [
       "Лемматизация слов:   0%|          | 0/371089 [00:00<?, ?it/s]"
      ]
     },
     "metadata": {},
     "output_type": "display_data"
    },
    {
     "name": "stdout",
     "output_type": "stream",
     "text": [
      "CPU times: user 1min 54s, sys: 1.63 s, total: 1min 55s\n",
      "Wall time: 1min 54s\n"
     ]
    }
   ],
   "source": [
    "%%time\n",
    "norm_sentences = cached_normalizer.normalize(\n",
    "    df.article,  # текста, которые нужно отнармализовать\n",
    "    as_sentences=False,  # нужно ли разделить текст по предложениям (например для word2vec)\n",
    "    except_words=['АД', 'ИМ'],  # какие слова не нужно нормализовать (пример аббревиатуры)\n",
    ")"
   ]
  },
  {
   "cell_type": "code",
   "execution_count": 10,
   "id": "35b24c73-94b2-40f9-a25e-ec1f5764049a",
   "metadata": {},
   "outputs": [
    {
     "data": {
      "text/plain": [
       "'игра викторина brainstorm настольный игра brainstorm разновидность игра викторин.править игры.ть комплект игра входить на каждый карточка написать тема и 10 правильный ответ понятие так или иначе связанный с темой.тема мочь содержать ответ правильный в кавычка потому что по настоящий правильный ответ к каждый тема мочь быть большой 10. но в игра засчитываться только ответ указанный на карточке.играть два команда состав команда произволен.право первый ход определяться бросание кубика. в дальнейший ходить по очереди.минималистический версия.ведущий он роль мочь играть представитель другой команда зачитывать ходить команда тема карточка и переворачивать песочный часы. в течение минута отвечать команда устраивать мозговой штурм выдавать всевозможный ответ по они мнение связанный с темой. по окончание минута за каждый упомянуть правильный ответ команда да тся один очко.деталь реализации.текст тема карточка напечатать ч рный по белый а правильный ответ синий по красный муару. прочесть они мо'"
      ]
     },
     "execution_count": 10,
     "metadata": {},
     "output_type": "execute_result"
    }
   ],
   "source": [
    "norm_sentences[0][:1000]"
   ]
  },
  {
   "cell_type": "markdown",
   "id": "59c3b211-c7b2-4d8e-b7f3-ba1803055273",
   "metadata": {},
   "source": [
    "Пример с as_sentences=True"
   ]
  },
  {
   "cell_type": "code",
   "execution_count": 11,
   "id": "081dba41-0041-4964-9bf5-94d5f99ffd4d",
   "metadata": {},
   "outputs": [
    {
     "data": {
      "application/vnd.jupyter.widget-view+json": {
       "model_id": "",
       "version_major": 2,
       "version_minor": 0
      },
      "text/plain": [
       "Чистка текста:   0%|          | 0/1 [00:00<?, ?it/s]"
      ]
     },
     "metadata": {},
     "output_type": "display_data"
    },
    {
     "data": {
      "application/vnd.jupyter.widget-view+json": {
       "model_id": "",
       "version_major": 2,
       "version_minor": 0
      },
      "text/plain": [
       "Лемматизация слов:   0%|          | 0/24954 [00:00<?, ?it/s]"
      ]
     },
     "metadata": {},
     "output_type": "display_data"
    }
   ],
   "source": [
    "norm_sentences = cached_normalizer.normalize(\n",
    "    df.article[:1],\n",
    "    as_sentences=True\n",
    ")"
   ]
  },
  {
   "cell_type": "code",
   "execution_count": 12,
   "id": "e7739f48-29f6-4b8e-9537-03395d5cfc87",
   "metadata": {},
   "outputs": [
    {
     "data": {
      "text/plain": [
       "[['игра',\n",
       "  'викторина',\n",
       "  'brainstorm',\n",
       "  'настольный',\n",
       "  'игра',\n",
       "  'brainstorm',\n",
       "  'разновидность',\n",
       "  'игра',\n",
       "  'викторин.править',\n",
       "  'игры.ть',\n",
       "  'комплект',\n",
       "  'игра',\n",
       "  'входить',\n",
       "  'на',\n",
       "  'каждый',\n",
       "  'карточка',\n",
       "  'написать',\n",
       "  'тема',\n",
       "  'и',\n",
       "  '10',\n",
       "  'правильный',\n",
       "  'ответ',\n",
       "  'понятие',\n",
       "  'так',\n",
       "  'или',\n",
       "  'иначе',\n",
       "  'связанный',\n",
       "  'с',\n",
       "  'темой.тема',\n",
       "  'мочь',\n",
       "  'содержать',\n",
       "  'ответ',\n",
       "  'правильный',\n",
       "  'в',\n",
       "  'кавычка',\n",
       "  'потому',\n",
       "  'что',\n",
       "  'по',\n",
       "  'настоящий',\n",
       "  'правильный',\n",
       "  'ответ',\n",
       "  'к',\n",
       "  'каждый',\n",
       "  'тема',\n",
       "  'мочь',\n",
       "  'быть',\n",
       "  'большой',\n",
       "  '10.'],\n",
       " ['но',\n",
       "  'в',\n",
       "  'игра',\n",
       "  'засчитываться',\n",
       "  'только',\n",
       "  'ответ',\n",
       "  'указанный',\n",
       "  'на',\n",
       "  'карточке.играть',\n",
       "  'два',\n",
       "  'команда',\n",
       "  'состав',\n",
       "  'команда',\n",
       "  'произволен.право',\n",
       "  'первый',\n",
       "  'ход',\n",
       "  'определяться',\n",
       "  'бросание',\n",
       "  'кубика.']]"
      ]
     },
     "execution_count": 12,
     "metadata": {},
     "output_type": "execute_result"
    }
   ],
   "source": [
    "norm_sentences[0][:2]"
   ]
  },
  {
   "cell_type": "markdown",
   "id": "d6bba58b-8a19-4012-ae83-6b7e1194bb15",
   "metadata": {},
   "source": [
    "Можно сохранить объект (словарь нормальных форм) и загрузить уже в другом месте"
   ]
  },
  {
   "cell_type": "code",
   "execution_count": 13,
   "id": "32ebbcec-fbd7-4c10-8d35-9d37c07653de",
   "metadata": {},
   "outputs": [],
   "source": [
    "cached_normalizer.save('wiki_normalization/')\n",
    "\n",
    "cached_normalizer = CachedNormalizer.load('wiki_normalization/')"
   ]
  },
  {
   "cell_type": "markdown",
   "id": "70c85dab-b797-4e63-9c27-9e6cc6964e75",
   "metadata": {},
   "source": [
    "Тогда процесс будет быстрее, потому что мы не нормализуем лишний раз"
   ]
  },
  {
   "cell_type": "code",
   "execution_count": 14,
   "id": "21f4b00c-03d7-45ee-ade3-8f788b5c634e",
   "metadata": {},
   "outputs": [
    {
     "data": {
      "application/vnd.jupyter.widget-view+json": {
       "model_id": "",
       "version_major": 2,
       "version_minor": 0
      },
      "text/plain": [
       "Чистка текста:   0%|          | 0/50 [00:00<?, ?it/s]"
      ]
     },
     "metadata": {},
     "output_type": "display_data"
    },
    {
     "data": {
      "application/vnd.jupyter.widget-view+json": {
       "model_id": "",
       "version_major": 2,
       "version_minor": 0
      },
      "text/plain": [
       "Лемматизация слов:   0%|          | 0/371089 [00:00<?, ?it/s]"
      ]
     },
     "metadata": {},
     "output_type": "display_data"
    },
    {
     "name": "stdout",
     "output_type": "stream",
     "text": [
      "CPU times: user 14.4 s, sys: 145 ms, total: 14.6 s\n",
      "Wall time: 14.5 s\n"
     ]
    }
   ],
   "source": [
    "%%time\n",
    "norm_sentences = cached_normalizer.normalize(df.article)"
   ]
  },
  {
   "cell_type": "markdown",
   "id": "b57ae69f-a8b4-4f66-8d03-e5aef47e53f7",
   "metadata": {},
   "source": [
    "В несколько раз быстрее :)"
   ]
  },
  {
   "cell_type": "markdown",
   "id": "3055038d-ea94-4146-9347-6ad2e1464908",
   "metadata": {},
   "source": [
    "Можно запустить скрипт на совсем другом корпусе текстов (например на вики). В таком случае словарь будет очень много весить и загружаться, соответственно, дольше. Тем не менее в некоторых моментах это позволит ускорить процесс лемматизации."
   ]
  },
  {
   "cell_type": "code",
   "execution_count": 15,
   "id": "dc6b851f-bad8-4d9a-a226-2a5b8fd5aad2",
   "metadata": {},
   "outputs": [
    {
     "name": "stdout",
     "output_type": "stream",
     "text": [
      "CPU times: user 18.6 s, sys: 529 ms, total: 19.1 s\n",
      "Wall time: 19.1 s\n"
     ]
    }
   ],
   "source": [
    "%%time\n",
    "cached_normalizer = CachedNormalizer.load('other_corpus_normalization/')"
   ]
  },
  {
   "cell_type": "code",
   "execution_count": 16,
   "id": "ff5737aa-772a-4051-8a74-fea96857c297",
   "metadata": {},
   "outputs": [
    {
     "data": {
      "application/vnd.jupyter.widget-view+json": {
       "model_id": "",
       "version_major": 2,
       "version_minor": 0
      },
      "text/plain": [
       "Чистка текста:   0%|          | 0/50 [00:00<?, ?it/s]"
      ]
     },
     "metadata": {},
     "output_type": "display_data"
    },
    {
     "data": {
      "application/vnd.jupyter.widget-view+json": {
       "model_id": "",
       "version_major": 2,
       "version_minor": 0
      },
      "text/plain": [
       "Лемматизация слов:   0%|          | 0/371089 [00:00<?, ?it/s]"
      ]
     },
     "metadata": {},
     "output_type": "display_data"
    },
    {
     "name": "stdout",
     "output_type": "stream",
     "text": [
      "CPU times: user 1min, sys: 718 ms, total: 1min 1s\n",
      "Wall time: 1min\n"
     ]
    }
   ],
   "source": [
    "%%time\n",
    "norm_sentences = cached_normalizer.normalize(df.article)"
   ]
  },
  {
   "cell_type": "markdown",
   "id": "3a87c5b7-d6dc-431b-8c57-4e52345e3a23",
   "metadata": {},
   "source": [
    "Быстрее в два раза, хотя прогонялась на совсем другом тексте"
   ]
  }
 ],
 "metadata": {
  "kernelspec": {
   "display_name": "Python 3 (ipykernel)",
   "language": "python",
   "name": "python3"
  },
  "language_info": {
   "codemirror_mode": {
    "name": "ipython",
    "version": 3
   },
   "file_extension": ".py",
   "mimetype": "text/x-python",
   "name": "python",
   "nbconvert_exporter": "python",
   "pygments_lexer": "ipython3",
   "version": "3.8.2"
  }
 },
 "nbformat": 4,
 "nbformat_minor": 5
}
