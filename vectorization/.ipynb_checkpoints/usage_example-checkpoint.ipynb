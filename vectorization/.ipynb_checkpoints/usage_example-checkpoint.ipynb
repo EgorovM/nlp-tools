{
 "cells": [
  {
   "cell_type": "markdown",
   "id": "51311a41-9422-4c5b-a1b5-7a0d9a560f95",
   "metadata": {},
   "source": [
    "# Векторизация"
   ]
  },
  {
   "cell_type": "code",
   "execution_count": 7,
   "id": "0103b28f-0c82-41c9-aaf5-7bb35551032b",
   "metadata": {},
   "outputs": [],
   "source": [
    "import os\n",
    "import pandas as pd"
   ]
  },
  {
   "cell_type": "code",
   "execution_count": 5,
   "id": "0c19ece9-ba3a-410f-84f6-0c2965924c34",
   "metadata": {},
   "outputs": [],
   "source": [
    "df = pd.read_csv('../data/wiki.csv', sep='\\t')"
   ]
  },
  {
   "cell_type": "code",
   "execution_count": 29,
   "id": "370b2c9c-cfc6-4358-bb27-fce4e49e3e74",
   "metadata": {},
   "outputs": [],
   "source": [
    "def load_normalizer():\n",
    "    import sys\n",
    "  \n",
    "    # setting path\n",
    "    sys.path.append('../normalization/')\n",
    "    \n",
    "    from cached_normalizer import CachedNormalizer\n",
    "    \n",
    "    sys.path.append('../vectorization/')\n",
    "    \n",
    "    return CachedNormalizer()"
   ]
  },
  {
   "cell_type": "code",
   "execution_count": 45,
   "id": "02448ac5-02b7-4911-a5d8-ec45899135c2",
   "metadata": {},
   "outputs": [
    {
     "data": {
      "text/plain": [
       "<cached_normalizer.CachedNormalizer at 0x13b8f0d90>"
      ]
     },
     "execution_count": 45,
     "metadata": {},
     "output_type": "execute_result"
    }
   ],
   "source": [
    "cached_normalizer = load_normalizer()\n",
    "cached_normalizer.load('../normalization/other_corpus_normalization/')"
   ]
  },
  {
   "cell_type": "code",
   "execution_count": 50,
   "id": "7ae93cc1-accb-4eda-a26e-011736426e24",
   "metadata": {},
   "outputs": [],
   "source": [
    "import importlib\n",
    "import vectorizer\n",
    "importlib.reload(vectorizer)\n",
    "from vectorizer import ISCVectorizer"
   ]
  },
  {
   "cell_type": "code",
   "execution_count": 51,
   "id": "3e187939-b151-42ea-8ce2-411f702e803b",
   "metadata": {},
   "outputs": [],
   "source": [
    "vectorizer = ISCVectorizer('models/isc_word2vec.pickle')\n",
    "vectorizer.set_batch_preprocessor(cached_normalizer.normalize)"
   ]
  },
  {
   "cell_type": "code",
   "execution_count": 53,
   "id": "679d1859-e7cb-412f-85d8-3b90064c3392",
   "metadata": {},
   "outputs": [
    {
     "data": {
      "application/vnd.jupyter.widget-view+json": {
       "model_id": "",
       "version_major": 2,
       "version_minor": 0
      },
      "text/plain": [
       "Чистка текста:   0%|          | 0/50 [00:00<?, ?it/s]"
      ]
     },
     "metadata": {},
     "output_type": "display_data"
    },
    {
     "data": {
      "application/vnd.jupyter.widget-view+json": {
       "model_id": "",
       "version_major": 2,
       "version_minor": 0
      },
      "text/plain": [
       "Лемматизация слов:   0%|          | 0/371089 [00:00<?, ?it/s]"
      ]
     },
     "metadata": {},
     "output_type": "display_data"
    },
    {
     "data": {
      "application/vnd.jupyter.widget-view+json": {
       "model_id": "7ec2876e880d48fe87b4e37fa1f505ec",
       "version_major": 2,
       "version_minor": 0
      },
      "text/plain": [
       "  0%|          | 0/50 [00:00<?, ?it/s]"
      ]
     },
     "metadata": {},
     "output_type": "display_data"
    }
   ],
   "source": [
    "vectors = vectorizer.texts_to_vec(df.article)"
   ]
  },
  {
   "cell_type": "code",
   "execution_count": 54,
   "id": "af4de73e-1aa6-403c-94bb-a86e1082b532",
   "metadata": {},
   "outputs": [
    {
     "data": {
      "text/plain": [
       "50"
      ]
     },
     "execution_count": 54,
     "metadata": {},
     "output_type": "execute_result"
    }
   ],
   "source": [
    "len(vectors)"
   ]
  },
  {
   "cell_type": "code",
   "execution_count": 57,
   "id": "d8ff4705-97ed-4543-84c3-3ad253453270",
   "metadata": {},
   "outputs": [
    {
     "data": {
      "text/plain": [
       "(100,)"
      ]
     },
     "execution_count": 57,
     "metadata": {},
     "output_type": "execute_result"
    }
   ],
   "source": [
    "vectors[0].shape"
   ]
  },
  {
   "cell_type": "code",
   "execution_count": 58,
   "id": "bb99d49e-4547-4a8d-9127-6f3c9dce6482",
   "metadata": {},
   "outputs": [
    {
     "data": {
      "text/plain": [
       "array([-0.00151819, -0.25210189, -0.08067484,  0.11131908, -0.05507939,\n",
       "       -0.41608197, -0.12571036,  0.06219478,  0.26978664,  0.1008395 ,\n",
       "        0.27259821, -0.60891984, -0.18192254,  0.04957139, -0.39479952,\n",
       "       -0.01462176,  0.26962755, -0.27791574, -0.03828395,  0.19022386,\n",
       "        0.24158151, -0.22555082, -0.07488474,  0.06139331, -0.20031647,\n",
       "        0.35385536, -0.14656048,  0.19156581,  0.00089504,  0.12278129,\n",
       "       -0.24931312,  0.36039364,  0.28028466, -0.21937132, -0.1097745 ,\n",
       "       -0.37543105,  0.22387521, -0.19349997, -0.090134  , -0.16104791,\n",
       "       -0.38500612, -0.14280348,  0.3303966 ,  0.22745335,  0.36633435,\n",
       "        0.42608912,  0.03448845,  0.0284139 ,  0.16057443,  0.15139944,\n",
       "       -0.21044309,  0.54294305, -0.17330662, -0.08238795, -0.21512474,\n",
       "       -0.10651518, -0.09952851,  0.42177472, -0.1350434 ,  0.44692677,\n",
       "        0.42792509, -0.05538376, -0.17463033,  0.44831672,  0.19275884,\n",
       "       -0.00727538, -0.23875303,  0.0630519 ,  0.24175184,  0.52569296,\n",
       "        0.07717118,  0.20072302, -0.19241632, -0.35495851,  0.51035165,\n",
       "       -0.33190537,  0.3648521 , -0.13384445,  0.09746495, -0.03560837,\n",
       "       -0.36802576,  0.05214487,  0.01538269, -0.14488352, -0.08486643,\n",
       "       -0.14456632,  0.24608399,  0.09323013,  0.30347561, -0.34839874,\n",
       "        0.15081413, -0.02466996,  0.50067076,  0.32530606, -0.16498708,\n",
       "        0.013709  ,  0.38876572, -0.23786882, -0.63627295,  0.10357952])"
      ]
     },
     "execution_count": 58,
     "metadata": {},
     "output_type": "execute_result"
    }
   ],
   "source": [
    "vectors[0]"
   ]
  }
 ],
 "metadata": {
  "kernelspec": {
   "display_name": "Python 3 (ipykernel)",
   "language": "python",
   "name": "python3"
  },
  "language_info": {
   "codemirror_mode": {
    "name": "ipython",
    "version": 3
   },
   "file_extension": ".py",
   "mimetype": "text/x-python",
   "name": "python",
   "nbconvert_exporter": "python",
   "pygments_lexer": "ipython3",
   "version": "3.8.2"
  }
 },
 "nbformat": 4,
 "nbformat_minor": 5
}
